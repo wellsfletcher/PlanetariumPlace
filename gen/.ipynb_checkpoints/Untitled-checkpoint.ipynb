{
 "cells": [
  {
   "cell_type": "markdown",
   "id": "ff4921fc-5fee-4a13-a067-66516925da2a",
   "metadata": {},
   "source": [
    "# Earth Coloring Pixel Map Generation"
   ]
  },
  {
   "cell_type": "markdown",
   "id": "1d3f5be8-fb3a-40de-9f77-39c10f036bee",
   "metadata": {},
   "source": [
    "## Import and load everything"
   ]
  },
  {
   "cell_type": "code",
   "execution_count": null,
   "id": "80579d68-8b6f-400d-af0a-cb9243f36dfc",
   "metadata": {},
   "outputs": [],
   "source": []
  },
  {
   "cell_type": "markdown",
   "id": "db681959-9114-403b-a14c-7c54651cf528",
   "metadata": {},
   "source": [
    "## Generate pixel map"
   ]
  },
  {
   "cell_type": "code",
   "execution_count": null,
   "id": "e4f5d669-0484-472c-9a37-235d42a218cb",
   "metadata": {},
   "outputs": [],
   "source": []
  },
  {
   "cell_type": "markdown",
   "id": "c1eb8ee0-c162-4a5e-8b4b-ba6dc22bc271",
   "metadata": {},
   "source": [
    "## Generate bitmap images and run post processing on them"
   ]
  },
  {
   "cell_type": "code",
   "execution_count": null,
   "id": "6ecddceb-ffce-4204-a791-a539e51dc4f5",
   "metadata": {},
   "outputs": [],
   "source": []
  },
  {
   "cell_type": "markdown",
   "id": "db5fe4dc-aff2-484d-9ff0-224bd53bd694",
   "metadata": {},
   "source": [
    "## Generate earth coloring and map variants"
   ]
  },
  {
   "cell_type": "code",
   "execution_count": null,
   "id": "0ccc5d79-9d56-4ba1-baa6-e65decc96f67",
   "metadata": {},
   "outputs": [],
   "source": []
  }
 ],
 "metadata": {
  "kernelspec": {
   "display_name": "Python 3 (ipykernel)",
   "language": "python",
   "name": "python3"
  },
  "language_info": {
   "codemirror_mode": {
    "name": "ipython",
    "version": 3
   },
   "file_extension": ".py",
   "mimetype": "text/x-python",
   "name": "python",
   "nbconvert_exporter": "python",
   "pygments_lexer": "ipython3",
   "version": "3.11.7"
  }
 },
 "nbformat": 4,
 "nbformat_minor": 5
}
